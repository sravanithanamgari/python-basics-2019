{
 "cells": [
  {
   "cell_type": "code",
   "execution_count": 9,
   "metadata": {},
   "outputs": [
    {
     "name": "stdout",
     "output_type": "stream",
     "text": [
      "A P S S D C\n",
      "Apssdc\n"
     ]
    }
   ],
   "source": [
    "#1. Print given characters as a word with starting character capital form and remaining lower\n",
    "#input:-A P S S D C\n",
    "#Output:- Apssdc\n",
    "\n",
    "n = input()\n",
    "def  spacereplace(a):\n",
    "    a = a.replace(\" \",\"\")\n",
    "    print(a.capitalize())\n",
    "\n",
    "spacereplace(n)"
   ]
  },
  {
   "cell_type": "code",
   "execution_count": 16,
   "metadata": {},
   "outputs": [
    {
     "name": "stdout",
     "output_type": "stream",
     "text": [
      "ramu ravi balu\n",
      "r\n",
      "ramu\n",
      "ravi\n",
      "-1\n"
     ]
    }
   ],
   "source": [
    "#3. Print all the words which starts with the given character, If no words matches with the given condition you should print -1\n",
    "#input:-ramu ravi balu\n",
    "#input:-r\n",
    "#output:-ramu\n",
    "#output:-ravi\n",
    "\n",
    "main = input().split(\" \")\n",
    "sub = input()\n",
    "def startssub(a,b):\n",
    "    for i in a:\n",
    "        if (i.startswith(b)):\n",
    "            print(i)\n",
    "        else:\n",
    "            print('-1')\n",
    "    \n",
    "startssub(main,sub)\n",
    "            \n"
   ]
  },
  {
   "cell_type": "code",
   "execution_count": 23,
   "metadata": {},
   "outputs": [
    {
     "name": "stdout",
     "output_type": "stream",
     "text": [
      "ramu ravi balu\n",
      "r\n",
      "ramu\n",
      "ravi\n"
     ]
    }
   ],
   "source": [
    "main = input().split(\" \")\n",
    "sub = input()\n",
    "def startssub(a,b):\n",
    "    match = 0\n",
    "    for i in a:\n",
    "        if(i.startswith(b)):\n",
    "            print(i)\n",
    "            match+=1\n",
    "    if(match ==0):\n",
    "        print('-1')\n",
    "\n",
    "startssub(main,sub)   "
   ]
  },
  {
   "cell_type": "code",
   "execution_count": 28,
   "metadata": {},
   "outputs": [
    {
     "name": "stdout",
     "output_type": "stream",
     "text": [
      "ramu ravi balu raju mahesh\n",
      "mahesh\n"
     ]
    }
   ],
   "source": [
    "#4. Print all the words which words not ends with vowels(a,e,i,o,u)\n",
    "#input:-ramu ravi balu raju mahesh\n",
    "#output:-mahesh\n",
    "\n",
    "data_list = input().split(\" \")\n",
    "def vowels(s):\n",
    "    t = ('a','e','i','o','u')\n",
    "    for i in s:\n",
    "        if i.endswith(t)!= True:\n",
    "            print(i)\n",
    "\n",
    "vowels(data_list)"
   ]
  },
  {
   "cell_type": "code",
   "execution_count": 33,
   "metadata": {},
   "outputs": [
    {
     "name": "stdout",
     "output_type": "stream",
     "text": [
      "HellowOrld\n"
     ]
    },
    {
     "data": {
      "text/plain": [
       "'hELLOWoRLd'"
      ]
     },
     "execution_count": 33,
     "metadata": {},
     "output_type": "execute_result"
    }
   ],
   "source": [
    "#6. Swap the case of all characters in given string except last character\n",
    "# input:-HellowOrld\n",
    "# output:- hELLOWoRLd\n",
    "s = input()\n",
    "def strcharacter(a):\n",
    "   \n",
    "\n",
    "    return a[:-1].swapcase()+a[-1]\n",
    "\n",
    "\n",
    "strcharacter(s)"
   ]
  },
  {
   "cell_type": "code",
   "execution_count": 34,
   "metadata": {},
   "outputs": [
    {
     "name": "stdout",
     "output_type": "stream",
     "text": [
      "HelloWorld\n",
      "2\n"
     ]
    }
   ],
   "source": [
    "# 7. Print the number of words in a given string (here word starting character contains UPPER letter)\n",
    "#input:-HelloWorld\n",
    "# output:-2\n",
    "\n",
    "s = input()\n",
    "def numberofwords(line):\n",
    "    count = 0\n",
    "    for char in line:\n",
    "        if char.isupper():\n",
    "            count+=1\n",
    "    print(count)\n",
    "    \n",
    "\n",
    "numberofwords(s)            \n",
    "        \n"
   ]
  },
  {
   "cell_type": "code",
   "execution_count": 40,
   "metadata": {},
   "outputs": [
    {
     "name": "stdout",
     "output_type": "stream",
     "text": [
      "www.way2sms.com\n",
      "Digits 1\n",
      "ALPHABETS 12\n",
      "OTHERS 2\n"
     ]
    }
   ],
   "source": [
    "# 8. Print the number of digits, alphabets and any other \n",
    "# input:-www.way2sms.com\n",
    "# output:-DIGITS 1\n",
    "# output:-ALPHABETS  12\n",
    "# output:-OTHERS 2\n",
    "\n",
    "s = input()\n",
    "def digitcount(a):\n",
    "    digits = 0\n",
    "    alphabets = 0\n",
    "    others =0\n",
    "    for i in a:\n",
    "        if i.isdigit():\n",
    "            digits+=1\n",
    "        elif i.isalpha():\n",
    "            alphabets +=1\n",
    "        else:\n",
    "            others +=1\n",
    "    print(\"Digits\", digits)\n",
    "    print(\"ALPHABETS\", alphabets )\n",
    "    print(\"OTHERS\",  others )\n",
    "    \n",
    "digitcount(s)\n",
    "\n",
    "    "
   ]
  },
  {
   "cell_type": "code",
   "execution_count": 39,
   "metadata": {},
   "outputs": [
    {
     "name": "stdout",
     "output_type": "stream",
     "text": [
      "ramu akash balu\n",
      "akash\n"
     ]
    }
   ],
   "source": [
    "# 5. Print all the words which word contains duplicate characters\n",
    "# input:-ramu akash balu\n",
    "# output:-akash\n",
    "\n",
    "s = input().split(\" \")\n",
    "def duplicate(line):\n",
    "    for name in line:\n",
    "        for char in name:\n",
    "            if name.count(char)>1:\n",
    "                print(name)\n",
    "                break\n",
    "    \n",
    "            \n",
    "duplicate(s)\n",
    "        \n"
   ]
  },
  {
   "cell_type": "code",
   "execution_count": 45,
   "metadata": {},
   "outputs": [
    {
     "name": "stdout",
     "output_type": "stream",
     "text": [
      "Hai hello world\n"
     ]
    },
    {
     "ename": "ValueError",
     "evalue": "max() arg is an empty sequence",
     "output_type": "error",
     "traceback": [
      "\u001b[1;31m---------------------------------------------------------------------------\u001b[0m",
      "\u001b[1;31mValueError\u001b[0m                                Traceback (most recent call last)",
      "\u001b[1;32m<ipython-input-45-07b547e2d762>\u001b[0m in \u001b[0;36m<module>\u001b[1;34m\u001b[0m\n\u001b[0;32m      9\u001b[0m     \u001b[1;32mfor\u001b[0m \u001b[0mword\u001b[0m \u001b[1;32min\u001b[0m \u001b[0mwords\u001b[0m\u001b[1;33m:\u001b[0m\u001b[1;33m\u001b[0m\u001b[1;33m\u001b[0m\u001b[0m\n\u001b[0;32m     10\u001b[0m         \u001b[0mlengths\u001b[0m\u001b[1;33m.\u001b[0m\u001b[0mappend\u001b[0m\u001b[1;33m(\u001b[0m\u001b[0mlen\u001b[0m\u001b[1;33m(\u001b[0m\u001b[0mword\u001b[0m\u001b[1;33m)\u001b[0m\u001b[1;33m)\u001b[0m\u001b[1;33m\u001b[0m\u001b[1;33m\u001b[0m\u001b[0m\n\u001b[1;32m---> 11\u001b[1;33m \u001b[0mmax_length\u001b[0m \u001b[1;33m=\u001b[0m \u001b[0mmax\u001b[0m\u001b[1;33m(\u001b[0m\u001b[0mlengths\u001b[0m\u001b[1;33m)\u001b[0m\u001b[1;33m\u001b[0m\u001b[1;33m\u001b[0m\u001b[0m\n\u001b[0m\u001b[0;32m     12\u001b[0m \u001b[1;32mfor\u001b[0m \u001b[0mword\u001b[0m \u001b[1;32min\u001b[0m \u001b[0mwords\u001b[0m\u001b[1;33m:\u001b[0m\u001b[1;33m\u001b[0m\u001b[1;33m\u001b[0m\u001b[0m\n\u001b[0;32m     13\u001b[0m     \u001b[1;32mif\u001b[0m \u001b[0mmax_lengths\u001b[0m \u001b[1;33m==\u001b[0m \u001b[0mlen\u001b[0m\u001b[1;33m(\u001b[0m\u001b[0mword\u001b[0m\u001b[1;33m)\u001b[0m\u001b[1;33m:\u001b[0m\u001b[1;33m\u001b[0m\u001b[1;33m\u001b[0m\u001b[0m\n",
      "\u001b[1;31mValueError\u001b[0m: max() arg is an empty sequence"
     ]
    }
   ],
   "source": [
    "# 2. Print the maximum length word of given words\n",
    "# input:-Hai hello world\n",
    "# Output:-hello\n",
    "# Output:-world\n",
    "line = input()\n",
    "#lengths = []\n",
    "def maximumword(words):\n",
    "    lengths = []\n",
    "    for word in words:\n",
    "        lengths.append(len(word))\n",
    "max_length = max(lengths)   \n",
    "for word in words:\n",
    "    if max_lengths == len(word):\n",
    "        print(word)\n",
    "        \n",
    "\n",
    "maximumword(line)   "
   ]
  },
  {
   "cell_type": "code",
   "execution_count": null,
   "metadata": {},
   "outputs": [],
   "source": [
    "## product of a given number\n",
    "n=int(input())\n",
    "pro=1\n",
    "h=list(map(int,input().split()))\n",
    "for i in range(n):\n",
    "    pro=(pro*h[i])%(10**9+7)\n",
    "print(pro)"
   ]
  },
  {
   "cell_type": "code",
   "execution_count": 46,
   "metadata": {},
   "outputs": [
    {
     "name": "stdout",
     "output_type": "stream",
     "text": [
      "1 10 1\n",
      "10\n"
     ]
    }
   ],
   "source": [
    "## count divisors\n",
    "def countdivisor(l, r, k):\n",
    "    count = 0\n",
    "    for i in range (l, r+1):\n",
    "       if (i % k== 0):\n",
    "        count = count + 1\n",
    "    print(count)\n",
    "\n",
    "s = input()\n",
    "\n",
    "s = s.split()\n",
    "\n",
    "l = int(s[0])\n",
    "r = int(s[1])\n",
    "k = int(s[2])\n",
    "\n",
    "countdivisor(l, r, k)"
   ]
  },
  {
   "cell_type": "code",
   "execution_count": 47,
   "metadata": {},
   "outputs": [
    {
     "name": "stdout",
     "output_type": "stream",
     "text": [
      "abcdE\n",
      "ABCDe\n"
     ]
    }
   ],
   "source": [
    "## toggle string\n",
    "def togglestring():\n",
    "    s = input()\n",
    "    s = list(s)\n",
    "    t =\"\"\n",
    "    for c in s:\n",
    "        if c.islower():\n",
    "            t += c.upper()\n",
    "        else:\n",
    "            t += c.lower()\n",
    "    #return \"\".join(t)\n",
    "    print(t)\n",
    "\n",
    "togglestring()"
   ]
  },
  {
   "cell_type": "code",
   "execution_count": null,
   "metadata": {},
   "outputs": [],
   "source": [
    "## profile picture\n",
    "def profile(l, w, h):\n",
    "    if( w < l or h < l):\n",
    "        print(\"UPLOAD ANOTHER\")\n",
    "    elif(w == h):\n",
    "        print(\"ACCEPTED\")\n",
    "    else:\n",
    "        print(\"CROP IT\")\n",
    "    return\n",
    "\n",
    "l = int(input())\n",
    "n = int(input())\n",
    "for i in range(1, n+1):\n",
    "    s = list(input().split(\" \"))\n",
    "    w =int(s[0])\n",
    "    h =int(s[1])\n",
    "    profile(l, w, h)"
   ]
  },
  {
   "cell_type": "code",
   "execution_count": null,
   "metadata": {},
   "outputs": [],
   "source": [
    "## two strings\n",
    "s = int(input())\n",
    "for i in range(s):\n",
    "    str = list(input().split())\n",
    "    if sorted(str[0]) == sorted(str[1]):\n",
    "        print(\"YES\")\n",
    "    else:\n",
    "        print(\"NO\")\n"
   ]
  },
  {
   "cell_type": "code",
   "execution_count": null,
   "metadata": {},
   "outputs": [],
   "source": [
    "### duration\n",
    "def minuteDifference(s):\n",
    "    s = s.split()\n",
    "    sh = int(s[0])\n",
    "    sm = int(s[1])\n",
    "    eh = int(s[2])\n",
    "    em = int(s[3])\n",
    "    startminutes = (sh * 60) + sm\n",
    "    endminutes = (eh * 60) + em\n",
    "    return endminutes - startminutes\n",
    "\n",
    "def outputTimeformat(minutes):\n",
    "    #convert minutes to HH MM \n",
    "    hh = minutes // 60 \n",
    "    mm = minutes % 60\n",
    "    print(hh, mm)\n",
    "    return \n",
    "\n",
    "n = int(input())\n",
    "for i in range(0, n):\n",
    "    s = input()\n",
    "    minutes = minuteDifference(s)\n",
    "    outputTimeformat(minutes)"
   ]
  },
  {
   "cell_type": "markdown",
   "metadata": {},
   "source": [
    "### sets"
   ]
  },
  {
   "cell_type": "code",
   "execution_count": 1,
   "metadata": {},
   "outputs": [
    {
     "data": {
      "text/plain": [
       "['__and__',\n",
       " '__class__',\n",
       " '__contains__',\n",
       " '__delattr__',\n",
       " '__dir__',\n",
       " '__doc__',\n",
       " '__eq__',\n",
       " '__format__',\n",
       " '__ge__',\n",
       " '__getattribute__',\n",
       " '__gt__',\n",
       " '__hash__',\n",
       " '__iand__',\n",
       " '__init__',\n",
       " '__init_subclass__',\n",
       " '__ior__',\n",
       " '__isub__',\n",
       " '__iter__',\n",
       " '__ixor__',\n",
       " '__le__',\n",
       " '__len__',\n",
       " '__lt__',\n",
       " '__ne__',\n",
       " '__new__',\n",
       " '__or__',\n",
       " '__rand__',\n",
       " '__reduce__',\n",
       " '__reduce_ex__',\n",
       " '__repr__',\n",
       " '__ror__',\n",
       " '__rsub__',\n",
       " '__rxor__',\n",
       " '__setattr__',\n",
       " '__sizeof__',\n",
       " '__str__',\n",
       " '__sub__',\n",
       " '__subclasshook__',\n",
       " '__xor__',\n",
       " 'add',\n",
       " 'clear',\n",
       " 'copy',\n",
       " 'difference',\n",
       " 'difference_update',\n",
       " 'discard',\n",
       " 'intersection',\n",
       " 'intersection_update',\n",
       " 'isdisjoint',\n",
       " 'issubset',\n",
       " 'issuperset',\n",
       " 'pop',\n",
       " 'remove',\n",
       " 'symmetric_difference',\n",
       " 'symmetric_difference_update',\n",
       " 'union',\n",
       " 'update']"
      ]
     },
     "execution_count": 1,
     "metadata": {},
     "output_type": "execute_result"
    }
   ],
   "source": [
    "dir(set)"
   ]
  },
  {
   "cell_type": "code",
   "execution_count": 2,
   "metadata": {},
   "outputs": [
    {
     "data": {
      "text/plain": [
       "{1, 2, 3, 4, 5}"
      ]
     },
     "execution_count": 2,
     "metadata": {},
     "output_type": "execute_result"
    }
   ],
   "source": [
    "a={1,2,3,4,5}\n",
    "set(a)\n"
   ]
  },
  {
   "cell_type": "code",
   "execution_count": 4,
   "metadata": {},
   "outputs": [
    {
     "data": {
      "text/plain": [
       "{1, 2, 3, 4, 5, 6, 7, 8, 9}"
      ]
     },
     "execution_count": 4,
     "metadata": {},
     "output_type": "execute_result"
    }
   ],
   "source": [
    "a={1,2,3,4,5}\n",
    "b={6,8,7,3,9}\n",
    "a.union(b)"
   ]
  },
  {
   "cell_type": "code",
   "execution_count": 5,
   "metadata": {},
   "outputs": [
    {
     "data": {
      "text/plain": [
       "{3}"
      ]
     },
     "execution_count": 5,
     "metadata": {},
     "output_type": "execute_result"
    }
   ],
   "source": [
    "a={1,2,3,4,5}\n",
    "b={6,8,7,3,9}\n",
    "a.intersection(b)"
   ]
  },
  {
   "cell_type": "code",
   "execution_count": null,
   "metadata": {},
   "outputs": [],
   "source": []
  }
 ],
 "metadata": {
  "kernelspec": {
   "display_name": "Python 3",
   "language": "python",
   "name": "python3"
  },
  "language_info": {
   "codemirror_mode": {
    "name": "ipython",
    "version": 3
   },
   "file_extension": ".py",
   "mimetype": "text/x-python",
   "name": "python",
   "nbconvert_exporter": "python",
   "pygments_lexer": "ipython3",
   "version": "3.7.3"
  }
 },
 "nbformat": 4,
 "nbformat_minor": 2
}
