{
 "cells": [
  {
   "cell_type": "code",
   "execution_count": 4,
   "metadata": {},
   "outputs": [
    {
     "name": "stdout",
     "output_type": "stream",
     "text": [
      "10\n",
      "2 4 6 8 10 \n",
      "\n",
      "1 3 5 7 9 "
     ]
    }
   ],
   "source": [
    "### 1.Print even and odd numbers up to given range.\n",
    "\n",
    "#### input : 10 \n",
    "#### output:\n",
    "#### even numbers -->  2,4,6,8,10\n",
    "#### odd numbers --> 1,3,5,7,9\n",
    "\n",
    "N = int(input())\n",
    "for i in range(2,N+1,2):\n",
    "    print(i,end=\" \")\n",
    "print(\"\\n\")\n",
    "for j in range(1,N,2):\n",
    "    print(j,end=\" \")\n"
   ]
  },
  {
   "cell_type": "code",
   "execution_count": 9,
   "metadata": {},
   "outputs": [
    {
     "name": "stdout",
     "output_type": "stream",
     "text": [
      "12 23 34 23 45 65\n",
      "45\n"
     ]
    }
   ],
   "source": [
    "### 3.Print second Max Ex: 12 34 23 45 65 \n",
    "### o/p:45\n",
    "li = input().split()\n",
    "li1 = li.sort()\n",
    "print(li[-2])\n"
   ]
  },
  {
   "cell_type": "code",
   "execution_count": 32,
   "metadata": {},
   "outputs": [
    {
     "name": "stdout",
     "output_type": "stream",
     "text": [
      "2\n",
      "5\n",
      "1 5\n",
      "3 5 7 2 3\n",
      "5 20\n"
     ]
    }
   ],
   "source": [
    "\n",
    "### 5.print count and sum of digits in a given string \n",
    "\n",
    "#### test cases: 2\n",
    "#### 5 ---> 1 5\n",
    "#### 3 5 7 2 3  ---> 5 20\n",
    "t = int(input())\n",
    "for i in range(t):\n",
    "    value = input().split(\" \")\n",
    "    li=(list(map(int,value)))\n",
    "    print(len(li),sum(li))"
   ]
  },
  {
   "cell_type": "code",
   "execution_count": 33,
   "metadata": {},
   "outputs": [
    {
     "name": "stdout",
     "output_type": "stream",
     "text": [
      "10\n",
      "2 3 5 7 "
     ]
    }
   ],
   "source": [
    "### 3. Print prime numbers up to given range. --> input: 10 output: 2 3 5 7\n",
    "\n",
    "n=int(input())\n",
    "for i in range(2, n+1):\n",
    "        count = 0\n",
    "        for j in range(1, i+1):\n",
    "            if i%j==0:\n",
    "                count=count+1\n",
    "        if count==2:\n",
    "            print(i, end = \" \")\n",
    "            \n",
    "\n",
    "\n"
   ]
  },
  {
   "cell_type": "code",
   "execution_count": 12,
   "metadata": {},
   "outputs": [
    {
     "name": "stdout",
     "output_type": "stream",
     "text": [
      "5\n",
      "5 True\n"
     ]
    }
   ],
   "source": [
    "### 2.print given numbers prime or not.\n",
    "\n",
    "#### input: --> 5 9\n",
    "#### output: -->5  True\n",
    "####            9   False\n",
    "\n",
    "n= int(input())\n",
    "count =0\n",
    "for i in range(1,n+1):\n",
    "    if(n%i==0):\n",
    "        count=count+1\n",
    "if(count==2):\n",
    "    print(i ,\"True\")\n",
    "else:\n",
    "    print(i,\"False\")\n",
    "    \n",
    "    "
   ]
  },
  {
   "cell_type": "code",
   "execution_count": 1,
   "metadata": {},
   "outputs": [
    {
     "name": "stdout",
     "output_type": "stream",
     "text": [
      "2\n",
      "5\n",
      "120\n",
      "4\n",
      "16\n"
     ]
    }
   ],
   "source": [
    "### 4.Print factorial of a given number if it is a prime otherwise print power of the value.\n",
    "\n",
    "#### test cases : 2\n",
    "#### 5  --> 120\n",
    "#### 4 --> 16\n",
    "\n",
    "\n",
    "t = int(input())\n",
    "for i in  range(t):\n",
    "    n= int(input())\n",
    "    count = 0\n",
    "    fact =1\n",
    "    for i in range(1,n+1):\n",
    "        \n",
    "        if(n%i==0):\n",
    "            count=count+1\n",
    "    if(count==2):\n",
    "        for i in range(1,n+1):\n",
    "            fact = fact*i\n",
    "        print(fact)\n",
    "    else:\n",
    "        print(n**2)"
   ]
  },
  {
   "cell_type": "code",
   "execution_count": 1,
   "metadata": {},
   "outputs": [
    {
     "name": "stdout",
     "output_type": "stream",
     "text": [
      "3\n",
      "b\n",
      "1\n",
      "hello\n",
      "120\n",
      "hello python\n",
      "nohtyp olleh\n"
     ]
    }
   ],
   "source": [
    "### 6.Print factorial of a value if the length of a string is  prime otherwise print string in reverse\n",
    "\n",
    "#### test cases : 3\n",
    "\n",
    "#### b --> 1 \n",
    "#### hello -->120\n",
    "#### hello python ->nohtyp olleh\n",
    "t = int(input())\n",
    "for i in  range(t):\n",
    "    n= input()\n",
    "    count = 0\n",
    "    fact =1\n",
    "    x = len(n)\n",
    "    if (x == 1):\n",
    "        print(1)\n",
    "    else:\n",
    "        for i in range(1,x+1):\n",
    "            if(x%i==0):\n",
    "                count=count+1\n",
    "        if(count==2):\n",
    "            for i in range(1,x+1):\n",
    "                fact = fact*i\n",
    "            print(fact)\n",
    "        else:\n",
    "            print(n[::-1])"
   ]
  },
  {
   "cell_type": "code",
   "execution_count": 6,
   "metadata": {},
   "outputs": [
    {
     "name": "stdout",
     "output_type": "stream",
     "text": [
      "010101\n",
      "101101\n",
      "3\n"
     ]
    }
   ],
   "source": [
    "## input :- 101010\n",
    "##       :- 101101\n",
    "m = input()\n",
    "s = input()\n",
    "count  = 0\n",
    "for i in range(len(m)):\n",
    "    if m[i] == s[i]:\n",
    "        count +=1\n",
    "print(count)\n",
    "        \n",
    "    "
   ]
  },
  {
   "cell_type": "code",
   "execution_count": 5,
   "metadata": {},
   "outputs": [
    {
     "name": "stdout",
     "output_type": "stream",
     "text": [
      "Mahesh\n",
      "1 3\n",
      "haMesh\n"
     ]
    }
   ],
   "source": [
    "## Mahesh\n",
    "## 1 3\n",
    "### output:- haMesh\n",
    "s = input()\n",
    "li = list(map(int,input().split()))\n",
    "s1 = \"\"\n",
    "s2 = s[li[0]-1:li[1]]\n",
    "s2 = s2[::-1]\n",
    "for ch in s[li[1]:]:\n",
    "    s2+=ch\n",
    "print(s2)"
   ]
  },
  {
   "cell_type": "code",
   "execution_count": 6,
   "metadata": {},
   "outputs": [
    {
     "name": "stdout",
     "output_type": "stream",
     "text": [
      "1 2 10 100 500 50 100 6 7 \n"
     ]
    },
    {
     "ename": "TypeError",
     "evalue": "'int' object is not callable",
     "output_type": "error",
     "traceback": [
      "\u001b[1;31m---------------------------------------------------------------------------\u001b[0m",
      "\u001b[1;31mTypeError\u001b[0m                                 Traceback (most recent call last)",
      "\u001b[1;32m<ipython-input-6-c7841154f338>\u001b[0m in \u001b[0;36m<module>\u001b[1;34m\u001b[0m\n\u001b[0;32m      7\u001b[0m \u001b[1;32mfor\u001b[0m \u001b[0mi\u001b[0m \u001b[1;32min\u001b[0m \u001b[0mN\u001b[0m\u001b[1;33m:\u001b[0m\u001b[1;33m\u001b[0m\u001b[1;33m\u001b[0m\u001b[0m\n\u001b[0;32m      8\u001b[0m     \u001b[1;32mif\u001b[0m \u001b[0mlen\u001b[0m\u001b[1;33m(\u001b[0m\u001b[0mi\u001b[0m\u001b[1;33m)\u001b[0m\u001b[1;33m==\u001b[0m\u001b[1;36m3\u001b[0m \u001b[1;33m:\u001b[0m\u001b[1;33m\u001b[0m\u001b[1;33m\u001b[0m\u001b[0m\n\u001b[1;32m----> 9\u001b[1;33m         \u001b[1;32mif\u001b[0m \u001b[0mcount\u001b[0m\u001b[1;33m(\u001b[0m\u001b[0mi\u001b[0m\u001b[1;33m)\u001b[0m\u001b[1;33m<\u001b[0m\u001b[1;36m2\u001b[0m\u001b[1;33m:\u001b[0m\u001b[1;33m\u001b[0m\u001b[1;33m\u001b[0m\u001b[0m\n\u001b[0m\u001b[0;32m     10\u001b[0m \u001b[1;33m\u001b[0m\u001b[0m\n\u001b[0;32m     11\u001b[0m             \u001b[0msum1\u001b[0m\u001b[1;33m=\u001b[0m\u001b[0msum1\u001b[0m\u001b[1;33m+\u001b[0m\u001b[0mint\u001b[0m\u001b[1;33m(\u001b[0m\u001b[0mi\u001b[0m\u001b[1;33m)\u001b[0m\u001b[1;33m\u001b[0m\u001b[1;33m\u001b[0m\u001b[0m\n",
      "\u001b[1;31mTypeError\u001b[0m: 'int' object is not callable"
     ]
    }
   ],
   "source": [
    "#9. Find the average of unique three digit numbers\n",
    "#input:-1 2 10 100 500 50 100 6 7 \n",
    "#output:- 300\n",
    "N = input().split(\" \")\n",
    "sum1=0\n",
    "count = 0\n",
    "for i in N:\n",
    "    if len(i)==3 :\n",
    "        if count(i)<2:\n",
    "            \n",
    "            sum1=sum1+int(i)\n",
    "print(sum1/count[i])\n",
    "    "
   ]
  },
  {
   "cell_type": "code",
   "execution_count": 7,
   "metadata": {},
   "outputs": [
    {
     "name": "stdout",
     "output_type": "stream",
     "text": [
      "1 3 34 4 4 4 2 1 4 5 5\n",
      "{'1': 2, '3': 1, '34': 1, '4': 4, '2': 1, '5': 2}\n"
     ]
    }
   ],
   "source": [
    "## input: 1 3 34 4 4 4 2 1 4 5 5\n",
    "## output: frequency\n",
    "list1 = input().split(\" \")\n",
    "freq = {}\n",
    "for i in list1:\n",
    "    if i in freq:\n",
    "        freq[i]+=1\n",
    "    else:\n",
    "        freq[i]=1\n",
    "print(freq)"
   ]
  },
  {
   "cell_type": "code",
   "execution_count": 15,
   "metadata": {},
   "outputs": [
    {
     "name": "stdout",
     "output_type": "stream",
     "text": [
      "1 3 2 3 1 3 3 4 4 2 2\n",
      "1:2\n",
      "3:4\n",
      "2:3\n",
      "4:2\n"
     ]
    }
   ],
   "source": [
    "list1 = input().split(\" \")\n",
    "freq = {}\n",
    "for i in list1:\n",
    "    if i in freq:\n",
    "        freq[i]+=1\n",
    "    else:\n",
    "        freq[i]=1\n",
    "for key,value in freq.items():\n",
    "    print(key,value,sep=\":\")"
   ]
  },
  {
   "cell_type": "code",
   "execution_count": 12,
   "metadata": {},
   "outputs": [
    {
     "name": "stdout",
     "output_type": "stream",
     "text": [
      "sravanisrav\n",
      "s:2\n",
      "r:2\n",
      "a:3\n",
      "v:2\n",
      "n:1\n",
      "i:1\n"
     ]
    }
   ],
   "source": [
    "list1 = input()\n",
    "freq = {}\n",
    "for i in list1:\n",
    "    if i in freq:\n",
    "        freq[i]+=1\n",
    "    else:\n",
    "        freq[i]=1\n",
    "for key,value in freq.items():\n",
    "    print(key,value,sep=\":\")"
   ]
  },
  {
   "cell_type": "code",
   "execution_count": 10,
   "metadata": {},
   "outputs": [
    {
     "name": "stdout",
     "output_type": "stream",
     "text": [
      "sravanisrav\n",
      "{'s': 2, 'r': 2, 'a': 3, 'v': 2, 'n': 1, 'i': 1}\n"
     ]
    }
   ],
   "source": [
    "## input: d d n a d d g d a c f\n",
    "## output: frequency\n",
    "list1 = input()\n",
    "freq = {}\n",
    "for i in list1:\n",
    "    if i in freq:\n",
    "        freq[i]+=1\n",
    "    else:\n",
    "        freq[i]=1\n",
    "print(freq)"
   ]
  },
  {
   "cell_type": "code",
   "execution_count": null,
   "metadata": {},
   "outputs": [],
   "source": []
  }
 ],
 "metadata": {
  "kernelspec": {
   "display_name": "Python 3",
   "language": "python",
   "name": "python3"
  },
  "language_info": {
   "codemirror_mode": {
    "name": "ipython",
    "version": 3
   },
   "file_extension": ".py",
   "mimetype": "text/x-python",
   "name": "python",
   "nbconvert_exporter": "python",
   "pygments_lexer": "ipython3",
   "version": "3.7.3"
  }
 },
 "nbformat": 4,
 "nbformat_minor": 2
}
