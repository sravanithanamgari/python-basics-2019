{
 "cells": [
  {
   "cell_type": "markdown",
   "metadata": {},
   "source": [
    "## Functions:\n",
    "- reusebility\n",
    "- to perform specific task\n",
    "- passing parameters and return result\n",
    "\n",
    "#### Types\n",
    "- Predefined functions\n",
    "- Userdefined functions\n"
   ]
  },
  {
   "cell_type": "markdown",
   "metadata": {},
   "source": [
    "def function_name(arg1,arg2.....arg3):\n",
    "    #function body\n",
    "\n",
    "function_name(p1,p2,p3...)"
   ]
  },
  {
   "cell_type": "code",
   "execution_count": 4,
   "metadata": {},
   "outputs": [
    {
     "name": "stdout",
     "output_type": "stream",
     "text": [
      "11\n"
     ]
    }
   ],
   "source": [
    "## passing parameters and return nothing\n",
    "## addition of two numbers\n",
    "def add(x,y):\n",
    "    print(x+y)\n",
    "    return \n",
    "add(5,6)\n"
   ]
  },
  {
   "cell_type": "code",
   "execution_count": 5,
   "metadata": {},
   "outputs": [
    {
     "name": "stdout",
     "output_type": "stream",
     "text": [
      "11\n"
     ]
    }
   ],
   "source": [
    "def add(x,y):\n",
    "    print(x+y)\n",
    "    return \n",
    "a,b=5,6\n",
    "add(a,b)"
   ]
  },
  {
   "cell_type": "code",
   "execution_count": 7,
   "metadata": {},
   "outputs": [
    {
     "name": "stdout",
     "output_type": "stream",
     "text": [
      "9\n"
     ]
    }
   ],
   "source": [
    "###passing arguments and return result\n",
    "def add(x,y):\n",
    "    return x+y\n",
    "\n",
    "##print(add(4,5))\n",
    "rs = add(4,5)\n",
    "print(rs)"
   ]
  },
  {
   "cell_type": "code",
   "execution_count": 12,
   "metadata": {},
   "outputs": [
    {
     "name": "stdout",
     "output_type": "stream",
     "text": [
      "5\n",
      "False\n"
     ]
    }
   ],
   "source": [
    "### even or odd\n",
    "n = int(input())\n",
    "def even(n):\n",
    "    if(n%2==0):\n",
    "        print(\"True\")\n",
    "    else:\n",
    "        print(\"False\")\n",
    "even(n)\n",
    "            "
   ]
  },
  {
   "cell_type": "code",
   "execution_count": 16,
   "metadata": {},
   "outputs": [
    {
     "name": "stdout",
     "output_type": "stream",
     "text": [
      "4\n",
      "True\n"
     ]
    }
   ],
   "source": [
    "n = int(input())\n",
    "def isEven(a):\n",
    "    if a % 2 ==0:\n",
    "        print(\"True\")\n",
    "    else:\n",
    "        print(\"False\")\n",
    "isEven(n)"
   ]
  },
  {
   "cell_type": "code",
   "execution_count": 17,
   "metadata": {},
   "outputs": [
    {
     "name": "stdout",
     "output_type": "stream",
     "text": [
      "4\n"
     ]
    },
    {
     "data": {
      "text/plain": [
       "True"
      ]
     },
     "execution_count": 17,
     "metadata": {},
     "output_type": "execute_result"
    }
   ],
   "source": [
    "n = int(input())\n",
    "def isEven(a):\n",
    "    if a % 2 ==0:\n",
    "        return True\n",
    "    return False\n",
    "isEven(n)"
   ]
  },
  {
   "cell_type": "code",
   "execution_count": 23,
   "metadata": {},
   "outputs": [
    {
     "name": "stdout",
     "output_type": "stream",
     "text": [
      "6\n"
     ]
    },
    {
     "data": {
      "text/plain": [
       "720"
      ]
     },
     "execution_count": 23,
     "metadata": {},
     "output_type": "execute_result"
    }
   ],
   "source": [
    "## if it even then find it factorial value\n",
    "def fact(a):\n",
    "    f=1\n",
    "    if isEven(a):\n",
    "        for i in range(1,a+1):\n",
    "            f = f*i\n",
    "        return f\n",
    "    return \"NO\"\n",
    "n = int(input())\n",
    "\n",
    "fact(n)\n",
    "            "
   ]
  },
  {
   "cell_type": "code",
   "execution_count": 21,
   "metadata": {},
   "outputs": [
    {
     "name": "stdout",
     "output_type": "stream",
     "text": [
      "7\n",
      "True\n"
     ]
    }
   ],
   "source": [
    "## build function to check prime or not\n",
    "n = int(input())\n",
    "def isPrime(a):\n",
    "    count = 0\n",
    "    for i in range(1, a+1):\n",
    "        if(a%i==0):\n",
    "            count+=1\n",
    "    if count == 2:\n",
    "        print(\"True\")\n",
    "    else:\n",
    "        print(\"False\")\n",
    "isPrime(n)"
   ]
  },
  {
   "cell_type": "code",
   "execution_count": 50,
   "metadata": {},
   "outputs": [
    {
     "name": "stdout",
     "output_type": "stream",
     "text": [
      "5\n",
      "Not perfect number\n"
     ]
    }
   ],
   "source": [
    "## find out given number is perfect or not\n",
    "n = int(input())\n",
    "def perfect(a):\n",
    "    sum1=0\n",
    " \n",
    "    for i in range(1, a):\n",
    "        if(a%i==0):\n",
    "            sum1 = sum1+i\n",
    "    if(sum1==a):\n",
    "        print(\"Perfect number\")\n",
    "    else:\n",
    "        print(\"Not perfect number\")\n",
    "\n",
    "perfect(n)\n",
    "\n",
    "        "
   ]
  },
  {
   "cell_type": "code",
   "execution_count": 52,
   "metadata": {},
   "outputs": [
    {
     "name": "stdout",
     "output_type": "stream",
     "text": [
      "100\n",
      "Not perfect number\n"
     ]
    }
   ],
   "source": [
    "## perfect numbers in given range\n",
    "n = int(input())\n",
    "def perfectrange(x):\n",
    "    if perfect(x):\n",
    "        for i in range(1,x+1):\n",
    "            print(i, end=\" \")\n",
    "\n",
    "perfectrange(n)"
   ]
  },
  {
   "cell_type": "code",
   "execution_count": 34,
   "metadata": {},
   "outputs": [
    {
     "name": "stdout",
     "output_type": "stream",
     "text": [
      "3000\n",
      "Leap year\n"
     ]
    }
   ],
   "source": [
    "## leap year or not if leap year print true or false\n",
    "n = int(input())\n",
    "def Leapyear(a):\n",
    "        if( a%4==0 or a%100==0 and a%400!=0):\n",
    "            print(\"Leap year\")\n",
    "        else:\n",
    "            print(\"Not Leap year\")\n",
    "Leapyear(n)"
   ]
  },
  {
   "cell_type": "code",
   "execution_count": null,
   "metadata": {},
   "outputs": [],
   "source": []
  },
  {
   "cell_type": "code",
   "execution_count": null,
   "metadata": {},
   "outputs": [],
   "source": []
  }
 ],
 "metadata": {
  "kernelspec": {
   "display_name": "Python 3",
   "language": "python",
   "name": "python3"
  },
  "language_info": {
   "codemirror_mode": {
    "name": "ipython",
    "version": 3
   },
   "file_extension": ".py",
   "mimetype": "text/x-python",
   "name": "python",
   "nbconvert_exporter": "python",
   "pygments_lexer": "ipython3",
   "version": "3.7.3"
  }
 },
 "nbformat": 4,
 "nbformat_minor": 2
}
